{
 "cells": [
  {
   "cell_type": "code",
   "execution_count": 2,
   "id": "49f52f31",
   "metadata": {},
   "outputs": [
    {
     "name": "stdout",
     "output_type": "stream",
     "text": [
      "Hello python\n"
     ]
    }
   ],
   "source": [
    "#1. Write a Python program to print \"Hello Python\"?\n",
    "#sol:\n",
    "\n",
    "print(\"Hello python\")"
   ]
  },
  {
   "cell_type": "code",
   "execution_count": 4,
   "id": "7eedd055",
   "metadata": {},
   "outputs": [
    {
     "name": "stdout",
     "output_type": "stream",
     "text": [
      "The value of a : 10\n",
      "The value of b : 5\n",
      "the addition value of a and b is : 15\n",
      "the division value of a and b is : 2\n"
     ]
    }
   ],
   "source": [
    "#2. Write a Python program to do arithmetical operations addition and division.?¶\n",
    "#Sol:\n",
    "\n",
    "a=10\n",
    "b=5\n",
    "\n",
    "print(\"The value of a :\",a)\n",
    "print(\"The value of b :\",b)\n",
    "\n",
    "c=a+b\n",
    "d=a/b\n",
    "\n",
    "print(\"the addition value of a and b is :\",c)\n",
    "print(\"the division value of a and b is :\",int(d))"
   ]
  },
  {
   "cell_type": "code",
   "execution_count": 6,
   "id": "00c0b11d",
   "metadata": {},
   "outputs": [
    {
     "name": "stdout",
     "output_type": "stream",
     "text": [
      "The value of b : 20\n",
      "The value of h : 30\n",
      "The area of triangle is : 300\n"
     ]
    }
   ],
   "source": [
    "#3. Write a Python program to find the area of a triangle?\n",
    "#Sol:\n",
    "#(using the formula: 1/2*b*h we are going to calculate area of triangle)\n",
    "\n",
    "b=20\n",
    "h=30\n",
    "\n",
    "print(\"The value of b :\",b)\n",
    "print(\"The value of h :\",h)\n",
    "\n",
    "area = (1/2*b*h)\n",
    "\n",
    "print(\"The area of triangle is :\", int(area))\n"
   ]
  },
  {
   "cell_type": "code",
   "execution_count": 7,
   "id": "3568cba5",
   "metadata": {},
   "outputs": [
    {
     "name": "stdout",
     "output_type": "stream",
     "text": [
      "The value of first before swap : yogesh\n",
      "The value of second before swap : choudhary\n",
      "The value of first after swap : choudhary\n",
      "The value of second after swap : yogesh\n"
     ]
    }
   ],
   "source": [
    "#4. Write a Python program to swap two variables?\n",
    "#Sol:\n",
    "\n",
    "first = \"yogesh\"\n",
    "second = \"choudhary\"\n",
    "\n",
    "print(\"The value of first before swap :\", first)\n",
    "print(\"The value of second before swap :\", second)\n",
    "\n",
    "temp = first\n",
    "first = second\n",
    "second = temp\n",
    "\n",
    "print (\"The value of first after swap :\", first)\n",
    "print (\"The value of second after swap :\", second)"
   ]
  },
  {
   "cell_type": "code",
   "execution_count": 11,
   "id": "e14c2cce",
   "metadata": {},
   "outputs": [
    {
     "name": "stdout",
     "output_type": "stream",
     "text": [
      "0.601698243276581\n",
      "7\n"
     ]
    }
   ],
   "source": [
    "#5. Write a Python program to generate a random number?\n",
    "#Sol:\n",
    "\n",
    "#NOTE: I was unaware of this before and then I took help from actual answer and the I tried the same below.\n",
    "\n",
    "import random\n",
    "\n",
    "print(random.random())\n",
    "print(random.randint(1,10))"
   ]
  },
  {
   "cell_type": "code",
   "execution_count": null,
   "id": "2a3ef891",
   "metadata": {},
   "outputs": [],
   "source": []
  }
 ],
 "metadata": {
  "kernelspec": {
   "display_name": "Python 3 (ipykernel)",
   "language": "python",
   "name": "python3"
  },
  "language_info": {
   "codemirror_mode": {
    "name": "ipython",
    "version": 3
   },
   "file_extension": ".py",
   "mimetype": "text/x-python",
   "name": "python",
   "nbconvert_exporter": "python",
   "pygments_lexer": "ipython3",
   "version": "3.10.9"
  }
 },
 "nbformat": 4,
 "nbformat_minor": 5
}
