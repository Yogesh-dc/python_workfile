{
 "cells": [
  {
   "cell_type": "code",
   "execution_count": 3,
   "id": "969f39f3",
   "metadata": {},
   "outputs": [
    {
     "name": "stdout",
     "output_type": "stream",
     "text": [
      "actual kilometers before converting into miles : 10\n",
      "km into miles after converting : 6.213699999999999\n"
     ]
    }
   ],
   "source": [
    "#1. Write a Python program to convert kilometers to miles?\n",
    "#Sol:\n",
    "\n",
    "km = 10\n",
    "\n",
    "print(\"actual kilometers before converting into miles :\", km)\n",
    "\n",
    "miles = (km*\t0.62137)\n",
    "\n",
    "print(\"km into miles after converting :\", miles)"
   ]
  },
  {
   "cell_type": "code",
   "execution_count": 6,
   "id": "7d0b863e",
   "metadata": {},
   "outputs": [
    {
     "name": "stdout",
     "output_type": "stream",
     "text": [
      "Temperature in celcius : 35\n",
      "Temperature in fahrenheit : 95.0\n"
     ]
    }
   ],
   "source": [
    "#2.Write a Python program to convert Celsius to Fahrenheit?\n",
    "#Sol.\n",
    "\n",
    "cels = 35\n",
    "\n",
    "print(\"Temperature in celcius :\", cels)\n",
    "\n",
    "farh = (cels*1.800)+32.00\n",
    "\n",
    "print(\"Temperature in fahrenheit :\", farh)"
   ]
  },
  {
   "cell_type": "code",
   "execution_count": 37,
   "id": "ba393c4c",
   "metadata": {},
   "outputs": [
    {
     "name": "stdout",
     "output_type": "stream",
     "text": [
      "Following is the calendar for year 2022 month 11 \n",
      "    November 2022\n",
      "Mo Tu We Th Fr Sa Su\n",
      "    1  2  3  4  5  6\n",
      " 7  8  9 10 11 12 13\n",
      "14 15 16 17 18 19 20\n",
      "21 22 23 24 25 26 27\n",
      "28 29 30\n",
      "\n",
      "                                  2022\n",
      "\n",
      "      January                   February                   March\n",
      "Mo Tu We Th Fr Sa Su      Mo Tu We Th Fr Sa Su      Mo Tu We Th Fr Sa Su\n",
      "                1  2          1  2  3  4  5  6          1  2  3  4  5  6\n",
      " 3  4  5  6  7  8  9       7  8  9 10 11 12 13       7  8  9 10 11 12 13\n",
      "10 11 12 13 14 15 16      14 15 16 17 18 19 20      14 15 16 17 18 19 20\n",
      "17 18 19 20 21 22 23      21 22 23 24 25 26 27      21 22 23 24 25 26 27\n",
      "24 25 26 27 28 29 30      28                        28 29 30 31\n",
      "31\n",
      "\n",
      "       April                      May                       June\n",
      "Mo Tu We Th Fr Sa Su      Mo Tu We Th Fr Sa Su      Mo Tu We Th Fr Sa Su\n",
      "             1  2  3                         1             1  2  3  4  5\n",
      " 4  5  6  7  8  9 10       2  3  4  5  6  7  8       6  7  8  9 10 11 12\n",
      "11 12 13 14 15 16 17       9 10 11 12 13 14 15      13 14 15 16 17 18 19\n",
      "18 19 20 21 22 23 24      16 17 18 19 20 21 22      20 21 22 23 24 25 26\n",
      "25 26 27 28 29 30         23 24 25 26 27 28 29      27 28 29 30\n",
      "                          30 31\n",
      "\n",
      "        July                     August                  September\n",
      "Mo Tu We Th Fr Sa Su      Mo Tu We Th Fr Sa Su      Mo Tu We Th Fr Sa Su\n",
      "             1  2  3       1  2  3  4  5  6  7                1  2  3  4\n",
      " 4  5  6  7  8  9 10       8  9 10 11 12 13 14       5  6  7  8  9 10 11\n",
      "11 12 13 14 15 16 17      15 16 17 18 19 20 21      12 13 14 15 16 17 18\n",
      "18 19 20 21 22 23 24      22 23 24 25 26 27 28      19 20 21 22 23 24 25\n",
      "25 26 27 28 29 30 31      29 30 31                  26 27 28 29 30\n",
      "\n",
      "      October                   November                  December\n",
      "Mo Tu We Th Fr Sa Su      Mo Tu We Th Fr Sa Su      Mo Tu We Th Fr Sa Su\n",
      "                1  2          1  2  3  4  5  6                1  2  3  4\n",
      " 3  4  5  6  7  8  9       7  8  9 10 11 12 13       5  6  7  8  9 10 11\n",
      "10 11 12 13 14 15 16      14 15 16 17 18 19 20      12 13 14 15 16 17 18\n",
      "17 18 19 20 21 22 23      21 22 23 24 25 26 27      19 20 21 22 23 24 25\n",
      "24 25 26 27 28 29 30      28 29 30                  26 27 28 29 30 31\n",
      "31\n",
      "\n"
     ]
    }
   ],
   "source": [
    "#3. Write a Python program to display calendar?\n",
    "#Sol.\n",
    "\n",
    "#NOTE:I was unaware of this program so took help from solution\n",
    "\n",
    "import calendar\n",
    "\n",
    "year = 2022\n",
    "month = 11\n",
    "\n",
    "\n",
    "print(\"Following is the calendar for year\", year,\"month\", month, \"\\n\", calendar.month(year, month))\n",
    "print(calendar.calendar(year))"
   ]
  },
  {
   "cell_type": "code",
   "execution_count": 11,
   "id": "91bdf1de",
   "metadata": {},
   "outputs": [
    {
     "name": "stdout",
     "output_type": "stream",
     "text": [
      "The value of a1\n",
      "The value of b-9\n",
      "The value of c14\n",
      "The value of +root is : 7.0\n",
      "The value of -root is : 2.0\n"
     ]
    }
   ],
   "source": [
    "#4. Write a Python program to solve quadratic equation?\n",
    "#Sol:\n",
    "\n",
    "# lets take an example of any quadratic equation(ax^{2}+bx^{1}+c=0)\n",
    "# here a and b are coefficients of x and c is constant part of the equation\n",
    "import math\n",
    "import cmath\n",
    "a= int(input(\"The value of a\"))\n",
    "b= int(input(\"The value of b\"))\n",
    "c= int(input(\"The value of c\"))\n",
    "\n",
    "# here we have to define another variable as d to calculate b^{2}-4ac\n",
    "\n",
    "d = (b**2)-(4*a*c)\n",
    "\n",
    "rootpos = ((-1*b)+(math.sqrt(d))) / (2*a)\n",
    "rootneg = ((-1*b)-(math.sqrt(d))) / (2*a)\n",
    "\n",
    "print(\"The value of +root is :\", rootpos)\n",
    "print(\"The value of -root is :\", rootneg)\n",
    "\n",
    "\n",
    "\n"
   ]
  },
  {
   "cell_type": "code",
   "execution_count": 4,
   "id": "dfe983b0",
   "metadata": {},
   "outputs": [
    {
     "name": "stdout",
     "output_type": "stream",
     "text": [
      "Enter the value of first number :15\n",
      "Enter the value of second number :55\n",
      "The values of first and second before swap is : 15 and 55\n",
      "the value of first and second number after swap is \n",
      " : 55 and 15\n"
     ]
    }
   ],
   "source": [
    "#5. Write a Python program to swap two variables without temp variable?\n",
    "#Sol:\n",
    "\n",
    "# here we cannot use temp or other variable so we just need to perform a mathematical operation\n",
    "\n",
    "var1 = int(input(\"Enter the value of first number :\"))\n",
    "var2 = int(input(\"Enter the value of second number :\"))\n",
    "\n",
    "print(\"The values of first and second before swap is :\", var1,\"and\", var2)\n",
    "\n",
    "var2 = var1 + var2\n",
    "var1 = var2 - var1\n",
    "var2 = var2 - var1\n",
    "\n",
    "print(\"the value of first and second number after swap is \\n :\",var1,\"and\",var2)\n"
   ]
  },
  {
   "cell_type": "code",
   "execution_count": null,
   "id": "ab244b26",
   "metadata": {},
   "outputs": [],
   "source": []
  }
 ],
 "metadata": {
  "kernelspec": {
   "display_name": "Python 3 (ipykernel)",
   "language": "python",
   "name": "python3"
  },
  "language_info": {
   "codemirror_mode": {
    "name": "ipython",
    "version": 3
   },
   "file_extension": ".py",
   "mimetype": "text/x-python",
   "name": "python",
   "nbconvert_exporter": "python",
   "pygments_lexer": "ipython3",
   "version": "3.10.9"
  }
 },
 "nbformat": 4,
 "nbformat_minor": 5
}
