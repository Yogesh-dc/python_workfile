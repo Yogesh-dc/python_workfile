{
 "cells": [
  {
   "cell_type": "code",
   "execution_count": 1,
   "id": "c9772431",
   "metadata": {},
   "outputs": [],
   "source": [
    "# to create a list\n",
    "\n",
    "list = [\"yogesh\", \"choudhary\", 15]"
   ]
  },
  {
   "cell_type": "code",
   "execution_count": 2,
   "id": "d27f097b",
   "metadata": {},
   "outputs": [
    {
     "data": {
      "text/plain": [
       "['yogesh', 'choudhary', 15]"
      ]
     },
     "execution_count": 2,
     "metadata": {},
     "output_type": "execute_result"
    }
   ],
   "source": [
    "# to get all the element of list\n",
    "\n",
    "list"
   ]
  },
  {
   "cell_type": "code",
   "execution_count": 7,
   "id": "9c8617e9",
   "metadata": {},
   "outputs": [
    {
     "data": {
      "text/plain": [
       "'c'"
      ]
     },
     "execution_count": 7,
     "metadata": {},
     "output_type": "execute_result"
    }
   ],
   "source": [
    "# to get particular value of an element of a list\n",
    "\n",
    "list[1][0]"
   ]
  },
  {
   "cell_type": "code",
   "execution_count": 3,
   "id": "52042593",
   "metadata": {},
   "outputs": [
    {
     "name": "stdout",
     "output_type": "stream",
     "text": [
      "0 1\n",
      "1 2\n",
      "2 3\n",
      "3 4.5\n",
      "4 6.5\n",
      "5 5\n",
      "6 yogesh\n",
      "0 element is :  1\n",
      "1 element is :  2\n",
      "2 element is :  3\n",
      "3 element is :  4.5\n",
      "4 element is :  6.5\n",
      "5 element is :  5\n",
      "6 element is :  yogesh\n",
      "<class 'int'>\n",
      "<class 'int'>\n",
      "<class 'int'>\n",
      "<class 'float'>\n",
      "<class 'float'>\n",
      "<class 'int'>\n",
      "<class 'str'>\n",
      "['y', 'o', 'g', 'e', 's', 'h']\n",
      "[1, 4, 9, 25]\n"
     ]
    }
   ],
   "source": [
    "l=[1,2,3,4.5,6.5,5,\"yogesh\"]\n",
    "l2=[]\n",
    "l3=[]\n",
    "\n",
    "#for items and their index number\n",
    "for i, j in enumerate(l):\n",
    "    print(i, j)\n",
    "    \n",
    "# another method to get index and values    \n",
    "for i in range(len(l)):\n",
    "    print(i, \"element is : \",l[i])\n",
    "\n",
    "# for printing data type of the following list    \n",
    "for i in l:\n",
    "    print(type(i))\n",
    "        \n",
    "# for method if there is a string in the list         \n",
    "for i in j:\n",
    "    if type(i) == str:\n",
    "        l2=[]\n",
    "        for i in j:\n",
    "            l2.append(i)\n",
    "print(l2)\n",
    "        \n",
    "#for square root of integer and creating another list\n",
    "\n",
    "for p in l:\n",
    "    if type(p)==int:\n",
    "        d=(p**2)\n",
    "        l3.append(d)\n",
    "print(l3)\n",
    "            \n",
    "            \n"
   ]
  },
  {
   "cell_type": "code",
   "execution_count": 5,
   "id": "f5ba8169",
   "metadata": {},
   "outputs": [],
   "source": [
    "l5=[8,5,9]"
   ]
  },
  {
   "cell_type": "code",
   "execution_count": 6,
   "id": "4c5a24a9",
   "metadata": {},
   "outputs": [
    {
     "data": {
      "text/plain": [
       "8"
      ]
     },
     "execution_count": 6,
     "metadata": {},
     "output_type": "execute_result"
    }
   ],
   "source": [
    "l5[0]"
   ]
  },
  {
   "cell_type": "code",
   "execution_count": 7,
   "id": "b157a158",
   "metadata": {},
   "outputs": [
    {
     "data": {
      "text/plain": [
       "[]"
      ]
     },
     "execution_count": 7,
     "metadata": {},
     "output_type": "execute_result"
    }
   ],
   "source": [
    "list(range(0,5,-1))\n"
   ]
  },
  {
   "cell_type": "code",
   "execution_count": 9,
   "id": "66a605ae",
   "metadata": {},
   "outputs": [
    {
     "name": "stdout",
     "output_type": "stream",
     "text": [
      "2 4 6 8 10 12 14 16 18 20 22 24 26 28 30 32 34 36 38 40 42 44 46 48 50 "
     ]
    }
   ],
   "source": [
    "# for printing even numbers between 2-51\n",
    "\n",
    "for list in (range(2,51,2)):\n",
    "    print(list, end=\" \")"
   ]
  },
  {
   "cell_type": "code",
   "execution_count": 7,
   "id": "ceee05fb",
   "metadata": {},
   "outputs": [
    {
     "data": {
      "text/plain": [
       "[10, 9, 8, 7]"
      ]
     },
     "execution_count": 7,
     "metadata": {},
     "output_type": "execute_result"
    }
   ],
   "source": [
    "# for reverse integers\n",
    "\n",
    "list(range(10,6,-1))\n"
   ]
  },
  {
   "cell_type": "code",
   "execution_count": 12,
   "id": "588e05b1",
   "metadata": {},
   "outputs": [
    {
     "name": "stdout",
     "output_type": "stream",
     "text": [
      "enter the numbers of rows you want to print :7\n",
      "*\n",
      "**\n",
      "***\n",
      "****\n",
      "*****\n",
      "******\n",
      "*******\n"
     ]
    }
   ],
   "source": [
    "# for printing pattern \n",
    "\n",
    "n = int(input(\"enter the numbers of rows you want to print :\"))\n",
    "for i in range(0,n):\n",
    "    for j in range(0,i+1):\n",
    "        print(\"*\", end=\"\")\n",
    "    print(\"\\r\")"
   ]
  },
  {
   "cell_type": "code",
   "execution_count": 21,
   "id": "464fb2da",
   "metadata": {},
   "outputs": [
    {
     "name": "stdout",
     "output_type": "stream",
     "text": [
      "10 9 8 6 5 2 "
     ]
    }
   ],
   "source": [
    "# for printing the elements of the list in reverse order\n",
    "\n",
    "l5 = [2,5,6,8,9,10]\n",
    "\n",
    "for i in range(len(l5)-1,-1,-1):\n",
    "    print(l5[i], end = \" \")"
   ]
  },
  {
   "cell_type": "code",
   "execution_count": 23,
   "id": "046637b1",
   "metadata": {},
   "outputs": [],
   "source": [
    "# creating a dictionary and getting keys and values of the same\n",
    "\n",
    "d = {\"a\":\"yogesh\",\"b\":\"sourabh\",\"c\":\"preetam\",\"d\":\"deepu\",\"e\":\"manoj\"}"
   ]
  },
  {
   "cell_type": "code",
   "execution_count": 24,
   "id": "ab262a17",
   "metadata": {},
   "outputs": [
    {
     "name": "stdout",
     "output_type": "stream",
     "text": [
      "a yogesh\n",
      "b sourabh\n",
      "c preetam\n",
      "d deepu\n",
      "e manoj\n"
     ]
    }
   ],
   "source": [
    "for i in d:\n",
    "    print(i, d[i])"
   ]
  },
  {
   "cell_type": "code",
   "execution_count": 25,
   "id": "62ec0615",
   "metadata": {},
   "outputs": [
    {
     "data": {
      "text/plain": [
       "dict_items([('a', 'yogesh'), ('b', 'sourabh'), ('c', 'preetam'), ('d', 'deepu'), ('e', 'manoj')])"
      ]
     },
     "execution_count": 25,
     "metadata": {},
     "output_type": "execute_result"
    }
   ],
   "source": [
    "# to get touple of list from a dictionary which include keys and values pair in touple\n",
    "\n",
    "d.items()"
   ]
  },
  {
   "cell_type": "code",
   "execution_count": 20,
   "id": "2b925a4a",
   "metadata": {},
   "outputs": [
    {
     "name": "stdout",
     "output_type": "stream",
     "text": [
      "('a', 'yogesh')\n",
      "('b', 'sourabh')\n",
      "('c', 'preetam')\n",
      "('d', 'deepu')\n",
      "('e', 'manoj')\n"
     ]
    }
   ],
   "source": [
    "# to get keys and value using for loop from a dictionary\n",
    "\n",
    "for i in d.items():\n",
    "    print(i)"
   ]
  },
  {
   "cell_type": "code",
   "execution_count": 30,
   "id": "5d9dbe03",
   "metadata": {},
   "outputs": [],
   "source": [
    "# creating a set\n",
    "\n",
    "s = {5,2,6,8,9,4,5,1,2,5,6,4,7,5,8,9,2}"
   ]
  },
  {
   "cell_type": "code",
   "execution_count": 31,
   "id": "b20acf6c",
   "metadata": {},
   "outputs": [
    {
     "data": {
      "text/plain": [
       "{1, 2, 4, 5, 6, 7, 8, 9}"
      ]
     },
     "execution_count": 31,
     "metadata": {},
     "output_type": "execute_result"
    }
   ],
   "source": [
    "s"
   ]
  },
  {
   "cell_type": "code",
   "execution_count": 32,
   "id": "02f42d67",
   "metadata": {},
   "outputs": [
    {
     "name": "stdout",
     "output_type": "stream",
     "text": [
      "1\n",
      "2\n",
      "4\n",
      "5\n",
      "6\n",
      "7\n",
      "8\n",
      "9\n"
     ]
    }
   ],
   "source": [
    "# using for loop to get the values in a set\n",
    "for i in s:\n",
    "    print(i)"
   ]
  },
  {
   "cell_type": "code",
   "execution_count": 33,
   "id": "602a483f",
   "metadata": {},
   "outputs": [],
   "source": [
    "s= \"this is basic python class\""
   ]
  },
  {
   "cell_type": "code",
   "execution_count": 34,
   "id": "60b498a9",
   "metadata": {},
   "outputs": [
    {
     "data": {
      "text/plain": [
       "26"
      ]
     },
     "execution_count": 34,
     "metadata": {},
     "output_type": "execute_result"
    }
   ],
   "source": [
    "len(s)"
   ]
  },
  {
   "cell_type": "code",
   "execution_count": 35,
   "id": "9e7e8c50",
   "metadata": {},
   "outputs": [
    {
     "name": "stdout",
     "output_type": "stream",
     "text": [
      "s s a l c   n o h t y p   c i s a b   s i   s i h t "
     ]
    }
   ],
   "source": [
    "# for getting the string elements in reverse manner\n",
    "\n",
    "for i in range(len(s)-1,-1,-1):\n",
    "    print(s[i], end = \" \")"
   ]
  },
  {
   "cell_type": "code",
   "execution_count": 36,
   "id": "56d05a9f",
   "metadata": {},
   "outputs": [
    {
     "data": {
      "text/plain": [
       "'this is basic python class'"
      ]
     },
     "execution_count": 36,
     "metadata": {},
     "output_type": "execute_result"
    }
   ],
   "source": [
    "s"
   ]
  },
  {
   "cell_type": "code",
   "execution_count": 33,
   "id": "81fbdceb",
   "metadata": {},
   "outputs": [
    {
     "name": "stdout",
     "output_type": "stream",
     "text": [
      "s s a l c   n o h t y p   c i s a b   s i   s i h t "
     ]
    }
   ],
   "source": [
    "# another approach to get the string values in reverse\n",
    "\n",
    "i = len(s)-1\n",
    "\n",
    "while i>=0:\n",
    "    print(s[i], end=\" \")\n",
    "    i=i-1"
   ]
  },
  {
   "cell_type": "code",
   "execution_count": 37,
   "id": "19501640",
   "metadata": {},
   "outputs": [
    {
     "name": "stdout",
     "output_type": "stream",
     "text": [
      "o e "
     ]
    }
   ],
   "source": [
    "# to get the vowels from a string\n",
    "\n",
    "n = \"yogesh\"\n",
    "v = \"AaEeIiOoUu\"\n",
    "\n",
    "for i in n:\n",
    "    if i in v:\n",
    "        print(i, end = \" \")\n"
   ]
  },
  {
   "cell_type": "code",
   "execution_count": null,
   "id": "b78b54f6",
   "metadata": {},
   "outputs": [],
   "source": [
    "while i in n:\n",
    "    if i in v == True:\n",
    "        print(i)"
   ]
  },
  {
   "cell_type": "code",
   "execution_count": 56,
   "id": "58193213",
   "metadata": {},
   "outputs": [
    {
     "name": "stdout",
     "output_type": "stream",
     "text": [
      "tenet palindrom\n"
     ]
    }
   ],
   "source": [
    "# palindrom or not\n",
    "\n",
    "p = \"tenet\"\n",
    "d = \"\"\n",
    "\n",
    "for i in p:\n",
    "    d = d+i\n",
    "print(d, end= \" \")\n",
    "\n",
    "if d==p:\n",
    "    print(\"palindrom\")\n",
    "else:\n",
    "    print(\"fail\")"
   ]
  },
  {
   "cell_type": "code",
   "execution_count": 9,
   "id": "0308f914",
   "metadata": {},
   "outputs": [
    {
     "name": "stdout",
     "output_type": "stream",
     "text": [
      "enter the word to check if palindrom or not :poop\n",
      "after reversing the string provided : poop\n",
      "palindrom\n"
     ]
    }
   ],
   "source": [
    "# palindrom or not\n",
    "\n",
    "z=input(\"enter the word to check if palindrom or not :\")\n",
    "p= z[::-1]\n",
    "print(\"after reversing the string provided :\",p)\n",
    "\n",
    "if z==p:\n",
    "    print(\"palindrom\")\n",
    "else:\n",
    "    (\"not palindrom\")"
   ]
  },
  {
   "cell_type": "code",
   "execution_count": 13,
   "id": "6b138dfa",
   "metadata": {},
   "outputs": [
    {
     "name": "stdout",
     "output_type": "stream",
     "text": [
      "enter a word to check if it is palindrom :ant\n",
      "no\n"
     ]
    }
   ],
   "source": [
    "# palindrom\n",
    "word = input(\"enter a word to check if it is palindrom :\")\n",
    "\n",
    "for i in range(len(word)):\n",
    "    if word[i] != word[len(word)-i-1]:\n",
    "        print(\"no\")\n",
    "        break\n",
    "else:\n",
    "    print(\"yes\")"
   ]
  },
  {
   "cell_type": "code",
   "execution_count": 14,
   "id": "4533dda4",
   "metadata": {},
   "outputs": [],
   "source": [
    "# create a dictionary \n",
    "\n",
    "d={\n",
    "    \"india\" : \"IN\",\n",
    "    \"united states\" : \"US\",\n",
    "    \"china\" : \"CH\",\n",
    "    \"pakistan\" : \"PA\"\n",
    "}"
   ]
  },
  {
   "cell_type": "code",
   "execution_count": 15,
   "id": "c47bcf30",
   "metadata": {},
   "outputs": [
    {
     "data": {
      "text/plain": [
       "{'india': 'IN', 'united states': 'US', 'china': 'CH', 'pakistan': 'PA'}"
      ]
     },
     "execution_count": 15,
     "metadata": {},
     "output_type": "execute_result"
    }
   ],
   "source": [
    "d"
   ]
  },
  {
   "cell_type": "code",
   "execution_count": 27,
   "id": "7c5093e8",
   "metadata": {},
   "outputs": [
    {
     "name": "stdout",
     "output_type": "stream",
     "text": [
      "['india', 'china']\n",
      "['united states', 'pakistan']\n"
     ]
    }
   ],
   "source": [
    "# check if the key length is smaller than 5 or greater and print saperate lists of those output\n",
    "\n",
    "d={\n",
    "    \"india\" : \"IN\",\n",
    "    \"united states\" : \"US\",\n",
    "    \"china\" : \"CH\",\n",
    "    \"pakistan\" : \"PA\"\n",
    "}\n",
    "# create two saperate empty list which will hold the final values of both the return\n",
    "l_smaller = []\n",
    "l_greater = []\n",
    "\n",
    "for i in d:\n",
    "    if len(i) <= 5:\n",
    "        l_smaller.append(i)\n",
    "    else:\n",
    "        l_greater.append(i)\n",
    "\n",
    "print(l_smaller)\n",
    "print(l_greater)\n"
   ]
  },
  {
   "cell_type": "code",
   "execution_count": null,
   "id": "ed89c825",
   "metadata": {},
   "outputs": [],
   "source": [
    "\n"
   ]
  },
  {
   "cell_type": "code",
   "execution_count": 57,
   "id": "489678de",
   "metadata": {},
   "outputs": [],
   "source": [
    "dic = {\"first\":{\n",
    "                \"a\":5,\n",
    "                \"b\":6,\n",
    "                \"c\":7\n",
    "},\n",
    "       \n",
    "           \"second\":{\n",
    "                    \"z\":11,\n",
    "                    \"y\":12,\n",
    "                    \"x\":13\n",
    "               \n",
    "                   \n",
    "           }\n",
    "       \n",
    "    \n",
    "}"
   ]
  },
  {
   "cell_type": "code",
   "execution_count": 58,
   "id": "8c6bf436",
   "metadata": {},
   "outputs": [
    {
     "data": {
      "text/plain": [
       "{'first': {'a': 5, 'b': 6, 'c': 7}, 'second': {'z': 11, 'y': 12, 'x': 13}}"
      ]
     },
     "execution_count": 58,
     "metadata": {},
     "output_type": "execute_result"
    }
   ],
   "source": [
    "dic"
   ]
  },
  {
   "cell_type": "code",
   "execution_count": 7,
   "id": "f03acc68",
   "metadata": {},
   "outputs": [
    {
     "data": {
      "text/plain": [
       "dict_values([{'a': 5, 'b': 6, 'c': 7}, {'z': 11, 'y': 12, 'x': 13}])"
      ]
     },
     "execution_count": 7,
     "metadata": {},
     "output_type": "execute_result"
    }
   ],
   "source": [
    "dic.values()"
   ]
  },
  {
   "cell_type": "code",
   "execution_count": 62,
   "id": "a4acd64d",
   "metadata": {},
   "outputs": [
    {
     "name": "stdout",
     "output_type": "stream",
     "text": [
      "first 7 second 13 "
     ]
    }
   ],
   "source": [
    "# find keys and maximum values in those keys \n",
    "\n",
    "for i in dic.keys():\n",
    "    print(i, end = \" \")\n",
    "    print(max(dic[i].values()), end = \" \")"
   ]
  },
  {
   "cell_type": "code",
   "execution_count": 1,
   "id": "4c4533d0",
   "metadata": {},
   "outputs": [],
   "source": [
    "d = {\n",
    "    \"ineuron\": {\"a\":14, \"b\":10, \"c\":4},\n",
    "    \"course\": {\"d\":45, \"e\":34, \"i\":1},\n",
    "    \"g\":34,\n",
    "    \"h\":[45,6,7,8,9,3],\n",
    "    \"i\":(45,34,2),\n",
    "    \"k\":\"sudh\"\n",
    "}"
   ]
  },
  {
   "cell_type": "code",
   "execution_count": 2,
   "id": "d14bc442",
   "metadata": {},
   "outputs": [
    {
     "data": {
      "text/plain": [
       "dict_keys(['ineuron', 'course', 'g', 'h', 'i', 'k'])"
      ]
     },
     "execution_count": 2,
     "metadata": {},
     "output_type": "execute_result"
    }
   ],
   "source": [
    "d.keys()"
   ]
  },
  {
   "cell_type": "code",
   "execution_count": 3,
   "id": "54efbbe7",
   "metadata": {},
   "outputs": [
    {
     "data": {
      "text/plain": [
       "dict_values([{'a': 14, 'b': 10, 'c': 4}, {'d': 45, 'e': 34, 'i': 1}, 34, [45, 6, 7, 8, 9, 3], (45, 34, 2), 'sudh'])"
      ]
     },
     "execution_count": 3,
     "metadata": {},
     "output_type": "execute_result"
    }
   ],
   "source": [
    "d.values()"
   ]
  },
  {
   "cell_type": "code",
   "execution_count": 34,
   "id": "db919c54",
   "metadata": {},
   "outputs": [
    {
     "name": "stdout",
     "output_type": "stream",
     "text": [
      "[14, 10, 4, 45, 34, 1, 45, 6, 7, 8, 9, 3, 45, 34, 2]\n",
      "maximum is :  45\n"
     ]
    }
   ],
   "source": [
    "#find the maximum from the above dictionary\n",
    "\n",
    "new = []\n",
    "\n",
    "for i in d.values():\n",
    "    if type(i) !=str and type(i)!= complex:\n",
    "        if type(i)==list or type(i)==tuple or type(i)==set:\n",
    "            new.extend(list(i))\n",
    "        \n",
    "        elif type(i)==dict:\n",
    "            for j in i.values():\n",
    "                new.append(j)\n",
    "print(new)               \n",
    "print(\"maximum is : \",max(new))\n",
    "        \n",
    "        \n",
    "  "
   ]
  },
  {
   "cell_type": "code",
   "execution_count": null,
   "id": "78428cc0",
   "metadata": {},
   "outputs": [],
   "source": []
  }
 ],
 "metadata": {
  "kernelspec": {
   "display_name": "Python 3 (ipykernel)",
   "language": "python",
   "name": "python3"
  },
  "language_info": {
   "codemirror_mode": {
    "name": "ipython",
    "version": 3
   },
   "file_extension": ".py",
   "mimetype": "text/x-python",
   "name": "python",
   "nbconvert_exporter": "python",
   "pygments_lexer": "ipython3",
   "version": "3.10.9"
  }
 },
 "nbformat": 4,
 "nbformat_minor": 5
}
