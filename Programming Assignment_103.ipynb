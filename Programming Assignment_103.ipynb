{
 "cells": [
  {
   "cell_type": "code",
   "execution_count": 26,
   "id": "2a9e3aee",
   "metadata": {},
   "outputs": [
    {
     "name": "stdout",
     "output_type": "stream",
     "text": [
      "Enter a number :0\n",
      "Its Zero\n"
     ]
    }
   ],
   "source": [
    "# 1. Write a Python Program to Check if a Number is Positive, Negative or Zero?\n",
    "#Sol.\n",
    "\n",
    "num = int(input(\"Enter a number :\"))\n",
    "\n",
    "if num > 0 :\n",
    "    print(\"Its Positive\")\n",
    "elif num == 0 : \n",
    "        print(\"Its Zero\")\n",
    "else :\n",
    "    print(\"Its Negative\")\n"
   ]
  },
  {
   "cell_type": "code",
   "execution_count": 35,
   "id": "96fed7be",
   "metadata": {},
   "outputs": [
    {
     "name": "stdout",
     "output_type": "stream",
     "text": [
      "Please enter a valid Iron Number : 6\n",
      "Its even Iron number\n"
     ]
    }
   ],
   "source": [
    "#2. Write a Python Program to Check if a Number is Odd or Even?\n",
    "#Sol:\n",
    "\n",
    "iron = int(input(\"Please enter a valid Iron Number : \"))\n",
    "\n",
    "if iron%2 == 0 :\n",
    "    print(\"Its even Iron number\")\n",
    "else:\n",
    "    print(\"Its odd Iron number\")"
   ]
  },
  {
   "cell_type": "code",
   "execution_count": 18,
   "id": "08e26eb4",
   "metadata": {},
   "outputs": [],
   "source": [
    "#3. Write a Python Program to Check Leap Year?\n",
    "#Sol:\n",
    "\n",
    "\n"
   ]
  },
  {
   "cell_type": "code",
   "execution_count": 13,
   "id": "8a1e7267",
   "metadata": {},
   "outputs": [
    {
     "name": "stdout",
     "output_type": "stream",
     "text": [
      "Enter a number to check weather it is sent by Prime :11\n",
      "it is sent Prime\n"
     ]
    }
   ],
   "source": [
    "#4. Write a Python Program to Check Prime Number?\n",
    "#Sol:\n",
    "\n",
    "optimus = int(input(\"Enter a number to check weather it is sent by Prime :\"))\n",
    "destroy = False\n",
    "\n",
    "if optimus <= 1:\n",
    "    print(\"not sent by Prime number\")\n",
    "elif optimus > 1 :\n",
    "    for i in range (2,optimus):\n",
    "        if (optimus%i) == 0:\n",
    "            destroy = True\n",
    "            break\n",
    "    if destroy:\n",
    "        print(\"it is not sent by Prime--Its decepticons\")\n",
    "    else:\n",
    "        print(\"it is sent Prime\")\n",
    "            \n",
    "            \n",
    "            \n"
   ]
  },
  {
   "cell_type": "code",
   "execution_count": 17,
   "id": "681f970f",
   "metadata": {},
   "outputs": [],
   "source": [
    "#5. Write a Python Program to Print all Prime Numbers in an Interval of 1-10000?\n",
    "#Sol:\n"
   ]
  },
  {
   "cell_type": "code",
   "execution_count": null,
   "id": "3431d819",
   "metadata": {},
   "outputs": [],
   "source": []
  }
 ],
 "metadata": {
  "kernelspec": {
   "display_name": "Python 3 (ipykernel)",
   "language": "python",
   "name": "python3"
  },
  "language_info": {
   "codemirror_mode": {
    "name": "ipython",
    "version": 3
   },
   "file_extension": ".py",
   "mimetype": "text/x-python",
   "name": "python",
   "nbconvert_exporter": "python",
   "pygments_lexer": "ipython3",
   "version": "3.10.9"
  }
 },
 "nbformat": 4,
 "nbformat_minor": 5
}
