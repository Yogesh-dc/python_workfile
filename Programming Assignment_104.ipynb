{
 "cells": [
  {
   "cell_type": "code",
   "execution_count": 3,
   "id": "a1e9d123",
   "metadata": {},
   "outputs": [],
   "source": [
    "#1. Write a Python Program to Find the Factorial of a Number?\n",
    "\n",
    "# factorial means a number multiplied with the numbers which were n*n-1*n-2..untill it reaches where n=1\n",
    "\n",
    "def factorial(num):\n",
    "    fact = 1\n",
    "    for i in range(num,0,-1):\n",
    "        fact = fact*i\n",
    "    print(fact)\n",
    "        "
   ]
  },
  {
   "cell_type": "code",
   "execution_count": 8,
   "id": "30879557",
   "metadata": {},
   "outputs": [
    {
     "name": "stdout",
     "output_type": "stream",
     "text": [
      "3628800\n"
     ]
    }
   ],
   "source": [
    "factorial(10)"
   ]
  },
  {
   "cell_type": "code",
   "execution_count": 17,
   "id": "ee1f7346",
   "metadata": {},
   "outputs": [],
   "source": [
    "#2. Write a Python Program to Display the multiplication Table\n",
    "\n",
    "def multiplytable(number):\n",
    "    for i in range(1, 11):\n",
    "        print(number,\"x\", i,\"=\", i*number)"
   ]
  },
  {
   "cell_type": "code",
   "execution_count": 18,
   "id": "84c45473",
   "metadata": {},
   "outputs": [
    {
     "name": "stdout",
     "output_type": "stream",
     "text": [
      "5 x 1 = 5\n",
      "5 x 2 = 10\n",
      "5 x 3 = 15\n",
      "5 x 4 = 20\n",
      "5 x 5 = 25\n",
      "5 x 6 = 30\n",
      "5 x 7 = 35\n",
      "5 x 8 = 40\n",
      "5 x 9 = 45\n",
      "5 x 10 = 50\n"
     ]
    }
   ],
   "source": [
    "multiplytable(5)"
   ]
  },
  {
   "cell_type": "code",
   "execution_count": 45,
   "id": "1c881623",
   "metadata": {},
   "outputs": [],
   "source": [
    "# 3. Write a Python Program to Print the Fibonacci sequence?\n",
    "\n",
    "# fibonacci sequence is the series of number in which every number is the submission of previous two numbers\n",
    "\n",
    "def fibonacci(num):\n",
    "    a = 0\n",
    "    b = 1\n",
    "    print(a)\n",
    "    for i in str(num-2>0):\n",
    "        temp = a + b\n",
    "        print(temp)\n",
    "        a = b\n",
    "        b = temp\n",
    "        num -= 1\n",
    "        \n",
    "# I know this sequence as I have seen it before too and know the logic but was not sure how to implement it in code so I\n",
    "# took help from answer itself and now I am confident that I got the way of writing this logic into code"
   ]
  },
  {
   "cell_type": "code",
   "execution_count": 46,
   "id": "9f0c320c",
   "metadata": {},
   "outputs": [
    {
     "name": "stdout",
     "output_type": "stream",
     "text": [
      "0\n",
      "1\n",
      "2\n",
      "3\n",
      "5\n"
     ]
    }
   ],
   "source": [
    "fibonacci(5)"
   ]
  },
  {
   "cell_type": "code",
   "execution_count": 47,
   "id": "b988d7a2",
   "metadata": {},
   "outputs": [],
   "source": [
    " # 4. Write a Python Program to Check Armstrong Number\n",
    " # 5. Write a Python Program to Find Armstrong Number in an Interval   \n",
    "   \n",
    "    \n",
    "    # couldn't understood the logic"
   ]
  },
  {
   "cell_type": "code",
   "execution_count": 56,
   "id": "5e5bf189",
   "metadata": {},
   "outputs": [],
   "source": [
    "#6. Write a Python Program to Find the Sum of Natural Numbers\n",
    "\n",
    "def SumofNaturalNumber(num):\n",
    "    sumnatural = 0\n",
    "    for i in range(1,num+1):\n",
    "        sumnatural += i\n",
    "    print(sumnatural)"
   ]
  },
  {
   "cell_type": "code",
   "execution_count": 59,
   "id": "b53a9a3b",
   "metadata": {},
   "outputs": [
    {
     "name": "stdout",
     "output_type": "stream",
     "text": [
      "10\n"
     ]
    }
   ],
   "source": [
    "SumofNaturalNumber(4)"
   ]
  },
  {
   "cell_type": "code",
   "execution_count": null,
   "id": "bda89ae7",
   "metadata": {},
   "outputs": [],
   "source": []
  }
 ],
 "metadata": {
  "kernelspec": {
   "display_name": "Python 3 (ipykernel)",
   "language": "python",
   "name": "python3"
  },
  "language_info": {
   "codemirror_mode": {
    "name": "ipython",
    "version": 3
   },
   "file_extension": ".py",
   "mimetype": "text/x-python",
   "name": "python",
   "nbconvert_exporter": "python",
   "pygments_lexer": "ipython3",
   "version": "3.10.9"
  }
 },
 "nbformat": 4,
 "nbformat_minor": 5
}
